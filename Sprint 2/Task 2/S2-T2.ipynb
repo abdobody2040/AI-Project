{
 "cells": [
  {
   "cell_type": "code",
   "execution_count": 1,
   "id": "ea6f07bf",
   "metadata": {},
   "outputs": [
    {
     "name": "stdout",
     "output_type": "stream",
     "text": [
      "1\n",
      "2\n",
      "2\n",
      "1\n",
      "[[0, 0, 0], [0, 0, 2], [0, 1, 1], [0, 1, 2], [0, 2, 0], [0, 2, 1], [0, 2, 2], [1, 0, 1], [1, 0, 2], [1, 1, 0], [1, 1, 1], [1, 1, 2], [1, 2, 0], [1, 2, 1], [1, 2, 2]]\n"
     ]
    }
   ],
   "source": [
    "if __name__ == '__main__':\n",
    "    x = int(input())\n",
    "    y = int(input())\n",
    "    z = int(input())\n",
    "    n = int(input())\n",
    "ans = [[i, j, k] for i in range(x + 1) for j in range(y + 1) for k in range(z + 1) if i + j + k != n]\n",
    "print (ans)"
   ]
  },
  {
   "cell_type": "code",
   "execution_count": null,
   "id": "b9424f13",
   "metadata": {},
   "outputs": [],
   "source": [
    "N = int(input())\n",
    "O = input().split(' ')\n",
    "P = list(map(int, O))\n",
    "Q = set(P)\n",
    "R = sorted(list(Q))\n",
    "print( R[-2])"
   ]
  },
  {
   "cell_type": "code",
   "execution_count": null,
   "id": "6c41ca6b",
   "metadata": {},
   "outputs": [],
   "source": [
    "N = int(input())\n",
    "\n",
    "students = []\n",
    "for i in range(2*N):\n",
    "    students.append(input().split())\n",
    "grades = {}\n",
    "for j in range(0, len(students), 2):\n",
    "    grades[students[j][0]] = float(students[j + 1][0])\n",
    "result = []\n",
    "num_to_match = sorted(set(grades.values()))[1]\n",
    "for pupil in grades.keys():\n",
    "    if grades[pupil] == num_to_match:\n",
    "        result.append(pupil)\n",
    "for k in sorted(result):\n",
    "    print (k)"
   ]
  },
  {
   "cell_type": "code",
   "execution_count": null,
   "id": "79a87865",
   "metadata": {},
   "outputs": [],
   "source": [
    "N = int(input())\n",
    "results = {}\n",
    "for i in range(N):\n",
    "    a = input().split(' ')\n",
    "    results[a[0]] = [float(x) for x in a[1:]]\n",
    "student = input()\n",
    "print (\"%.2f\" %(sum(results[student])/len(results[student])))"
   ]
  },
  {
   "cell_type": "code",
   "execution_count": null,
   "id": "9aadf07d",
   "metadata": {},
   "outputs": [],
   "source": [
    "list = []\n",
    "n = int(input())\n",
    "for i in range(n):\n",
    "    a = input().split()\n",
    "    if len(a) == 3:\n",
    "        eval(\"list.\" + a[0] + \"(\" + a[1] + \",\" + a[2] + \")\")\n",
    "    elif len(a) == 2:\n",
    "        eval(\"list.\" + a[0] + \"(\" + a[1] + \")\")\n",
    "    elif a[0] == \"print\":\n",
    "        print (list)\n",
    "    else:\n",
    "        eval(\"list.\" + a[0] + \"()\")"
   ]
  },
  {
   "cell_type": "code",
   "execution_count": null,
   "id": "caec0a69",
   "metadata": {},
   "outputs": [],
   "source": [
    "tuple_len = int(raw_input())\n",
    "a = tuple(map(int, raw_input().split(' ')))\n",
    "print hash(a)"
   ]
  }
 ],
 "metadata": {
  "kernelspec": {
   "display_name": "Python 3 (ipykernel)",
   "language": "python",
   "name": "python3"
  },
  "language_info": {
   "codemirror_mode": {
    "name": "ipython",
    "version": 3
   },
   "file_extension": ".py",
   "mimetype": "text/x-python",
   "name": "python",
   "nbconvert_exporter": "python",
   "pygments_lexer": "ipython3",
   "version": "3.9.7"
  }
 },
 "nbformat": 4,
 "nbformat_minor": 5
}
