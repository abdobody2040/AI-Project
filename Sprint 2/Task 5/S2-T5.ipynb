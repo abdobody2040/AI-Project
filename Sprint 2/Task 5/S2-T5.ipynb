{
 "cells": [
  {
   "cell_type": "code",
   "execution_count": null,
   "id": "98272921",
   "metadata": {},
   "outputs": [],
   "source": [
    "import cmath\n",
    "print(*cmath.polar(complex(input())), sep='\\n')"
   ]
  },
  {
   "cell_type": "code",
   "execution_count": null,
   "id": "7173536f",
   "metadata": {},
   "outputs": [],
   "source": [
    "# Enter your code here. Read input from STDIN. Print output to STDOUT\n",
    "import math\n",
    "a = int(input())\n",
    "b = int(input())\n",
    "M = math.sqrt(a**2+b**2)\n",
    "theta = math.acos(b/M )\n",
    "print(str(round(math.degrees(theta)))+'°')"
   ]
  },
  {
   "cell_type": "code",
   "execution_count": null,
   "id": "caac81df",
   "metadata": {},
   "outputs": [],
   "source": [
    "import math\n",
    "a = int(input())\n",
    "b = int(input())\n",
    "M = math.sqrt(a**2+b**2)\n",
    "theta = math.acos(b/M )\n",
    "print(str(round(math.degrees(theta)))+'°')"
   ]
  },
  {
   "cell_type": "code",
   "execution_count": null,
   "id": "03441d69",
   "metadata": {},
   "outputs": [],
   "source": [
    "# Enter your code here. Read input from STDIN. Print output to STDOUT\n",
    "print('{0}\\n{1}\\n({0}, {1})'.format(*divmod(int(input()), int(input()))))"
   ]
  },
  {
   "cell_type": "code",
   "execution_count": null,
   "id": "96890e47",
   "metadata": {},
   "outputs": [],
   "source": [
    "# Enter your code here. Read input from STDIN. Print output to STDOUT\n",
    "a,b,m = [int(input()) for _ in '123']\n",
    "print(pow(a,b),pow(a,b,m),sep='\\n')"
   ]
  },
  {
   "cell_type": "code",
   "execution_count": null,
   "id": "28160b5c",
   "metadata": {},
   "outputs": [],
   "source": [
    "# Enter your code here. Read input from STDIN. Print output to STDOUT\n",
    "a,b,c,d = (int(input()) for _ in range(4))\n",
    "print (pow(a,b)+pow(c,d))"
   ]
  },
  {
   "cell_type": "code",
   "execution_count": null,
   "id": "e0f72437",
   "metadata": {},
   "outputs": [],
   "source": [
    "for i in range(1,int(input())): #More than 2 lines will result in 0 score. Do not leave a blank line also\n",
    "    print((10**i - 1) // 9 * i)"
   ]
  },
  {
   "cell_type": "code",
   "execution_count": null,
   "id": "de84a0fb",
   "metadata": {},
   "outputs": [],
   "source": []
  },
  {
   "cell_type": "code",
   "execution_count": null,
   "id": "9e9b488e",
   "metadata": {},
   "outputs": [],
   "source": []
  },
  {
   "cell_type": "code",
   "execution_count": null,
   "id": "2b15517f",
   "metadata": {},
   "outputs": [],
   "source": []
  },
  {
   "cell_type": "code",
   "execution_count": null,
   "id": "d9dea07c",
   "metadata": {},
   "outputs": [],
   "source": []
  },
  {
   "cell_type": "code",
   "execution_count": null,
   "id": "5bff128a",
   "metadata": {},
   "outputs": [],
   "source": []
  },
  {
   "cell_type": "code",
   "execution_count": null,
   "id": "b549ae64",
   "metadata": {},
   "outputs": [],
   "source": []
  },
  {
   "cell_type": "code",
   "execution_count": null,
   "id": "48bb9322",
   "metadata": {},
   "outputs": [],
   "source": []
  }
 ],
 "metadata": {
  "kernelspec": {
   "display_name": "Python 3 (ipykernel)",
   "language": "python",
   "name": "python3"
  },
  "language_info": {
   "codemirror_mode": {
    "name": "ipython",
    "version": 3
   },
   "file_extension": ".py",
   "mimetype": "text/x-python",
   "name": "python",
   "nbconvert_exporter": "python",
   "pygments_lexer": "ipython3",
   "version": "3.9.7"
  }
 },
 "nbformat": 4,
 "nbformat_minor": 5
}
