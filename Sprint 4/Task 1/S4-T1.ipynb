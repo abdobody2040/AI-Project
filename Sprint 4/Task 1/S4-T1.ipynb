{
 "cells": [
  {
   "cell_type": "code",
   "execution_count": 1,
   "id": "15da9692",
   "metadata": {},
   "outputs": [
    {
     "name": "stdout",
     "output_type": "stream",
     "text": [
      "1 2\n",
      "5 6\n",
      "(1, 5) (1, 6) (2, 5) (2, 6) "
     ]
    }
   ],
   "source": [
    "from itertools import product\n",
    "A = input().split()\n",
    "A = list(map(int,A))\n",
    "B = input().split()\n",
    "B = list(map(int, B))\n",
    "output = list(product(A,B))\n",
    "for i in output:\n",
    "    print(i, end = \" \")"
   ]
  },
  {
   "cell_type": "code",
   "execution_count": 4,
   "id": "1ae7d1b8",
   "metadata": {},
   "outputs": [
    {
     "name": "stdout",
     "output_type": "stream",
     "text": [
      "hack 2\n",
      "ac\n",
      "ah\n",
      "ak\n",
      "ca\n",
      "ch\n",
      "ck\n",
      "ha\n",
      "hc\n",
      "hk\n",
      "ka\n",
      "kc\n",
      "kh\n"
     ]
    }
   ],
   "source": [
    "from itertools import permutations\n",
    "\n",
    "s,k = input().split()\n",
    "\n",
    "words = list(permutations(s,int(k)))\n",
    "words = sorted(words, reverse=False)\n",
    "for word in words:\n",
    "    print(*word,sep='')"
   ]
  },
  {
   "cell_type": "code",
   "execution_count": 6,
   "id": "1b837b31",
   "metadata": {},
   "outputs": [
    {
     "name": "stdout",
     "output_type": "stream",
     "text": [
      "HACK 2\n",
      "A\n",
      "C\n",
      "H\n",
      "K\n",
      "AC\n",
      "AH\n",
      "AK\n",
      "CH\n",
      "CK\n",
      "HK\n"
     ]
    }
   ],
   "source": [
    "from itertools import combinations\n",
    "\n",
    "io = input().split()\n",
    "S = io[0]\n",
    "k = int(io[1])\n",
    "for i in range(1,k+1):\n",
    "    for j in combinations(sorted(S),i):\n",
    "        print(\"\".join(j))"
   ]
  },
  {
   "cell_type": "code",
   "execution_count": 7,
   "id": "3954f3a4",
   "metadata": {},
   "outputs": [
    {
     "name": "stdout",
     "output_type": "stream",
     "text": [
      "hack 2\n",
      "aa\n",
      "ac\n",
      "ah\n",
      "ak\n",
      "cc\n",
      "ch\n",
      "ck\n",
      "hh\n",
      "hk\n",
      "kk\n"
     ]
    }
   ],
   "source": [
    "from itertools import combinations_with_replacement\n",
    "\n",
    "io = input().split();\n",
    "char = sorted(io[0]);\n",
    "N = int(io[1]);\n",
    "\n",
    "for i in combinations_with_replacement(char,N):\n",
    "    print(''.join(i));"
   ]
  }
 ],
 "metadata": {
  "kernelspec": {
   "display_name": "Python 3 (ipykernel)",
   "language": "python",
   "name": "python3"
  },
  "language_info": {
   "codemirror_mode": {
    "name": "ipython",
    "version": 3
   },
   "file_extension": ".py",
   "mimetype": "text/x-python",
   "name": "python",
   "nbconvert_exporter": "python",
   "pygments_lexer": "ipython3",
   "version": "3.9.7"
  }
 },
 "nbformat": 4,
 "nbformat_minor": 5
}
