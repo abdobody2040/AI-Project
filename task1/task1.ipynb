# Task 1 ( Basics )

# Question 1 :
Define a function which can compute the sum of two numbers.

Hints:
Define a function with two numbers as arguments. You can compute the sum in the function and return the value.

def sumof2():
    val1 = input("Enter first no. : ")
    val2 = input("Enter secound no. : ")
    val1=float(val1)
    val2=float(val2)
    z=val1+val2
    print(z)

# Question 2:

    Write a method which can calculate square value of number

Hints:
    Using the ** operator


z=input('kindly enter the no.: ')
z=int(z)
x=2
y=z**x
print(y)

# Question 3
Define a function that can convert a integer into a string and print it in console.

Hints:

Use str() to convert a number to string.

z=input("plz enter no. :")
z=str(z)
print(z)

# Question 4 :
Define a function that can receive two integral numbers in string form and compute their sum and then print it in console.

Hints:

Use int() to convert a string to integer.

def findSum(str1):
    temp = "0"
    Sum = 0
    for ch in str1:
        if (ch.isdigit()):
            temp += ch
        else:
            Sum += int(temp)
            temp = "0"
    return Sum + int(temp)

x=input("plz enter 1st no.:")
y=input("plz enter 2nd no.:")
findSum(x)
findSum(y)
print(findSum(x)+findSum(y))





# Question 5 :
Define a function that can accept two strings as input and concatenate them and then print it in console.

Hints:

Use + to concatenate the strings


x=input("plz enter 1st no.:")
y=input("plz enter 2nd no.:")
x=str(x)
y=str(y)
print(x+y)

# Question 6 :
Define a function that can accept two strings as input and print the string with maximum length in console. If two strings have the same length, then the function should print al l strings line by line.

Hints:

Use len() function to get the length of a string

x=input("plz enter 1st phrase")
y=input("plz enter 2nd phrase")



# Question 7 :
Define a function that can accept an integer number as input and print the "It is an even number" if the number is even, otherwise print "It is an odd number".

Hints:

Use % operator to check if a number is even or odd.



# Question 8 :
Write a program which accepts a string as input to print "Yes" if the string is "yes" or "YES" or "Yes", otherwise print "No". 

Hints:

Use if statement to judge condition.





# Question 9 :
Write a program which will find all such numbers which are divisible by 7 but are not a multiple of 5,
between 2000 and 3200 (both included).
The numbers obtained should be printed in a comma-separated sequence on a single line.

Hints: 
Consider use range(#begin, #end) method







# Question 10 :
Write a program which can compute the factorial of a given numbers.
The results should be printed in a comma-separated sequence on a single line.
Suppose the following input is supplied to the program:
8
Then, the output should be:
40320

Hints:
In case of input data being supplied to the question, it should be assumed to be a console input.

#Search about it please







# Question 11 :
Write a program that computes the value of a+aa+aaa+aaaa with a given digit as the value of a.
Suppose the following input is supplied to the program:
9
Then, the output should be:
11106

Hints:
In case of input data being supplied to the question, it should be assumed to be a console input.




