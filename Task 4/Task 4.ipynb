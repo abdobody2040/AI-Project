{
 "cells": [
  {
   "cell_type": "markdown",
   "metadata": {},
   "source": [
    "# 1- Question \n",
    "1-read you csv file (https://raw.githubusercontent.com/mwaskom/seaborn-data/master/diamonds.csv )\n",
    "\n",
    "2-print the first 5 rows \n",
    "\n",
    "3-print the shape of the data\n",
    "\n",
    "4- print and data type of each column"
   ]
  },
  {
   "cell_type": "code",
   "execution_count": 3,
   "metadata": {},
   "outputs": [
    {
     "name": "stdout",
     "output_type": "stream",
     "text": [
      "       carat        cut color clarity  depth  table  price     x     y     z\n",
      "0       0.23      Ideal     E     SI2   61.5   55.0    326  3.95  3.98  2.43\n",
      "1       0.21    Premium     E     SI1   59.8   61.0    326  3.89  3.84  2.31\n",
      "2       0.23       Good     E     VS1   56.9   65.0    327  4.05  4.07  2.31\n",
      "3       0.29    Premium     I     VS2   62.4   58.0    334  4.20  4.23  2.63\n",
      "4       0.31       Good     J     SI2   63.3   58.0    335  4.34  4.35  2.75\n",
      "...      ...        ...   ...     ...    ...    ...    ...   ...   ...   ...\n",
      "53935   0.72      Ideal     D     SI1   60.8   57.0   2757  5.75  5.76  3.50\n",
      "53936   0.72       Good     D     SI1   63.1   55.0   2757  5.69  5.75  3.61\n",
      "53937   0.70  Very Good     D     SI1   62.8   60.0   2757  5.66  5.68  3.56\n",
      "53938   0.86    Premium     H     SI2   61.0   58.0   2757  6.15  6.12  3.74\n",
      "53939   0.75      Ideal     D     SI2   62.2   55.0   2757  5.83  5.87  3.64\n",
      "\n",
      "[53940 rows x 10 columns]\n",
      "First 5 rows:\n",
      "   carat      cut color clarity  depth  table  price     x     y     z\n",
      "0   0.23    Ideal     E     SI2   61.5   55.0    326  3.95  3.98  2.43\n",
      "1   0.21  Premium     E     SI1   59.8   61.0    326  3.89  3.84  2.31\n",
      "2   0.23     Good     E     VS1   56.9   65.0    327  4.05  4.07  2.31\n",
      "3   0.29  Premium     I     VS2   62.4   58.0    334  4.20  4.23  2.63\n",
      "4   0.31     Good     J     SI2   63.3   58.0    335  4.34  4.35  2.75\n",
      "Number of rows and columns:\n",
      "(53940, 10)\n",
      "\n",
      "Data type of each column:\n",
      "carat      float64\n",
      "cut         object\n",
      "color       object\n",
      "clarity     object\n",
      "depth      float64\n",
      "table      float64\n",
      "price        int64\n",
      "x          float64\n",
      "y          float64\n",
      "z          float64\n",
      "dtype: object\n"
     ]
    }
   ],
   "source": [
    "import pandas as pd\n",
    "diamonds = pd.read_csv('https://raw.githubusercontent.com/mwaskom/seaborn-data/master/diamonds.csv')\n",
    "print(diamonds)\n",
    "pd.set_option('display.max_rows', 50)\n",
    "pd.set_option('display.max_columns', 50)\n",
    "print(\"First 5 rows:\")\n",
    "print(diamonds.head())\n",
    "print(\"Number of rows and columns:\")\n",
    "print(diamonds.shape)\n",
    "print(\"\\nData type of each column:\")\n",
    "print(diamonds.dtypes)"
   ]
  },
  {
   "cell_type": "markdown",
   "metadata": {},
   "source": [
    "# 2-Question\n",
    "1- print carat column\n",
    "\n",
    "2- Write a Pandas program to create a new 'Quality -color' Column (cut,color)\n",
    "\n",
    "examble => ( Ideal, E)"
   ]
  },
  {
   "cell_type": "code",
   "execution_count": 7,
   "metadata": {},
   "outputs": [
    {
     "name": "stdout",
     "output_type": "stream",
     "text": [
      "\n",
      "New DataFrame after inserting the 'color' column\n",
      "        name  score  attempts qualify Quality -color\n",
      "a  Anastasia   12.5         1     yes            Red\n",
      "b       Dima    9.0         3      no           Blue\n",
      "c  Katherine   16.5         2     yes         Orange\n",
      "d      James    NaN         3      no            Red\n",
      "e      Emily    9.0         2      no          White\n",
      "f    Michael   20.0         3     yes          White\n",
      "g    Matthew   14.5         1     yes           Blue\n",
      "h      Laura    NaN         1      no          Green\n",
      "i      Kevin    8.0         2      no          Green\n",
      "j      Jonas   19.0         1     yes            Red\n"
     ]
    }
   ],
   "source": [
    "import pandas as pd\n",
    "import numpy as np\n",
    "exam_data  = {'name': ['Anastasia', 'Dima', 'Katherine', 'James', 'Emily', 'Michael', 'Matthew', 'Laura', 'Kevin', 'Jonas'],\n",
    "        'score': [12.5, 9, 16.5, np.nan, 9, 20, 14.5, np.nan, 8, 19],\n",
    "        'attempts': [1, 3, 2, 3, 2, 3, 1, 1, 2, 1],\n",
    "        'qualify': ['yes', 'no', 'yes', 'no', 'no', 'yes', 'yes', 'no', 'no', 'yes']}\n",
    "labels = ['a', 'b', 'c', 'd', 'e', 'f', 'g', 'h', 'i', 'j']\n",
    "df = pd.DataFrame(exam_data , index=labels)\n",
    "color = ['Red','Blue','Orange','Red','White','White','Blue','Green','Green','Red']\n",
    "df['Quality -color'] = color\n",
    "print(\"\\nNew DataFrame after inserting the 'color' column\")\n",
    "print(df)"
   ]
  },
  {
   "cell_type": "markdown",
   "metadata": {},
   "source": [
    "# 3-Question\n",
    "1-Write a Pandas program to summarize the data.\n",
    "\n",
    "2- only one column => 'table'\n",
    "\n",
    "3- only 'float64' columns of the diamonds Dataframe. => include=['...']"
   ]
  },
  {
   "cell_type": "code",
   "execution_count": null,
   "metadata": {},
   "outputs": [],
   "source": [
    "import pandas as pd\n",
    "diamonds = pd.read_csv('https://raw.githubusercontent.com/mwaskom/seaborn-data/master/diamonds.csv')\n",
    "print(\"Summarize of 'table' columns:\")\n",
    "print(diamonds.describe(include=['table']))\n",
    "print(\"Summarize of 'float64' columns:\")\n",
    "print(diamonds.describe(include=['float64']))\n",
    "df = pd.DataFrame(exam_data , index=labels)\n",
    "print(\"Summary of the basic information about this DataFrame and its data:\")\n",
    "print(df.info())"
   ]
  },
  {
   "cell_type": "markdown",
   "metadata": {},
   "source": [
    "# 4-Question\n",
    "Write a Pandas program to find the details of the diamonds where length>5, width>5 and depth>5. (x,y,z)"
   ]
  },
  {
   "cell_type": "code",
   "execution_count": null,
   "metadata": {},
   "outputs": [],
   "source": [
    "import pandas as pd\n",
    "diamonds = pd.read_csv('https://raw.githubusercontent.com/mwaskom/seaborn-data/master/diamonds.csv')\n",
    "print(\"Original Dataframe:\")\n",
    "print(diamonds.head())\n",
    "print(\"\\nDiamonds where length>5, width>5 and depth>5:\")\n",
    "result = diamonds[(diamonds.x>5) & (diamonds.y>5) & (diamonds.z>5)]\n",
    "print(result.head())"
   ]
  },
  {
   "cell_type": "markdown",
   "metadata": {},
   "source": [
    "# 5-Question\n",
    "1- rename one col\n",
    "\n",
    "2- rename two col togeather\n",
    "\n",
    "3- rename all col togeather"
   ]
  },
  {
   "cell_type": "code",
   "execution_count": 10,
   "metadata": {},
   "outputs": [
    {
     "name": "stdout",
     "output_type": "stream",
     "text": [
      "Original Dataframe:\n",
      "   carat      cut color clarity  depth  table  price     x     y     z\n",
      "0   0.23    Ideal     E     SI2   61.5   55.0    326  3.95  3.98  2.43\n",
      "1   0.21  Premium     E     SI1   59.8   61.0    326  3.89  3.84  2.31\n",
      "2   0.23     Good     E     VS1   56.9   65.0    327  4.05  4.07  2.31\n",
      "3   0.29  Premium     I     VS2   62.4   58.0    334  4.20  4.23  2.63\n",
      "4   0.31     Good     J     SI2   63.3   58.0    335  4.34  4.35  2.75\n",
      "\n",
      "After renaming two of the columns of the said dataframe:\n",
      "   carat      cut diamond_color clarity  depth  table  price     x     y     z\n",
      "0   0.23    Ideal             E     SI2   61.5   55.0    326  3.95  3.98  2.43\n",
      "1   0.21  Premium             E     SI1   59.8   61.0    326  3.89  3.84  2.31\n",
      "2   0.23     Good             E     VS1   56.9   65.0    327  4.05  4.07  2.31\n",
      "3   0.29  Premium             I     VS2   62.4   58.0    334  4.20  4.23  2.63\n",
      "4   0.31     Good             J     SI2   63.3   58.0    335  4.34  4.35  2.75\n",
      "   carat      cut diamond_color clarity  depth  table  price     x     y     z\n",
      "0   0.23    Ideal             E     SI2   61.5   55.0    326  3.95  3.98  2.43\n",
      "1   0.21  Premium             E     SI1   59.8   61.0    326  3.89  3.84  2.31\n",
      "2   0.23     Good             E     VS1   56.9   65.0    327  4.05  4.07  2.31\n",
      "3   0.29  Premium             I     VS2   62.4   58.0    334  4.20  4.23  2.63\n",
      "4   0.31     Good             J     SI2   63.3   58.0    335  4.34  4.35  2.75\n",
      "\n",
      "After renaming two of the columns of the said dataframe:\n",
      "   carat      cut diamond_color dimaond_clarity  depth  table  price     x  \\\n",
      "0   0.23    Ideal             E             SI2   61.5   55.0    326  3.95   \n",
      "1   0.21  Premium             E             SI1   59.8   61.0    326  3.89   \n",
      "2   0.23     Good             E             VS1   56.9   65.0    327  4.05   \n",
      "3   0.29  Premium             I             VS2   62.4   58.0    334  4.20   \n",
      "4   0.31     Good             J             SI2   63.3   58.0    335  4.34   \n",
      "\n",
      "      y     z  \n",
      "0  3.98  2.43  \n",
      "1  3.84  2.31  \n",
      "2  4.07  2.31  \n",
      "3  4.23  2.63  \n",
      "4  4.35  2.75  \n",
      "\n",
      "After renaming all the columns of the said dataframe:\n",
      "   new_carat  new_cut new_color new_clarity  new_depth  new_table  new_price  \\\n",
      "0       0.23    Ideal         E         SI2       61.5       55.0        326   \n",
      "1       0.21  Premium         E         SI1       59.8       61.0        326   \n",
      "2       0.23     Good         E         VS1       56.9       65.0        327   \n",
      "3       0.29  Premium         I         VS2       62.4       58.0        334   \n",
      "4       0.31     Good         J         SI2       63.3       58.0        335   \n",
      "\n",
      "   new_x  new_y  new_z  \n",
      "0   3.95   3.98   2.43  \n",
      "1   3.89   3.84   2.31  \n",
      "2   4.05   4.07   2.31  \n",
      "3   4.20   4.23   2.63  \n",
      "4   4.34   4.35   2.75  \n"
     ]
    }
   ],
   "source": [
    "import pandas as pd\n",
    "diamonds = pd.read_csv('https://raw.githubusercontent.com/mwaskom/seaborn-data/master/diamonds.csv')\n",
    "print(\"Original Dataframe:\")\n",
    "print(diamonds.head())\n",
    "print(\"\\nAfter renaming two of the columns of the said dataframe:\")\n",
    "diamonds.rename(columns={'color':'diamond_color'}, inplace=True)\n",
    "print(diamonds.head())\n",
    "\n",
    "print(diamonds.head())\n",
    "print(\"\\nAfter renaming two of the columns of the said dataframe:\")\n",
    "diamonds.rename(columns={'color':'diamond_color', 'clarity':'dimaond_clarity'}, inplace=True)\n",
    "print(diamonds.head())\n",
    "diamonds_cols = ['new_carat', 'new_cut', 'new_color', 'new_clarity', 'new_depth', 'new_table', 'new_price', 'new_x', 'new_y', 'new_z']\n",
    "diamonds.columns = diamonds_cols\n",
    "print(\"\\nAfter renaming all the columns of the said dataframe:\")\n",
    "diamonds.rename(columns={'color':'diamond_color', 'clarity':'dimaond_clarity'}, inplace=True)\n",
    "print(diamonds.head())"
   ]
  },
  {
   "cell_type": "markdown",
   "metadata": {},
   "source": [
    "# 6-Question\n",
    "Write a Pandas program to find the diamonds that are either Good or Very Good."
   ]
  },
  {
   "cell_type": "code",
   "execution_count": 11,
   "metadata": {},
   "outputs": [
    {
     "name": "stdout",
     "output_type": "stream",
     "text": [
      "Original Dataframe:\n",
      "   carat      cut color clarity  depth  table  price     x     y     z\n",
      "0   0.23    Ideal     E     SI2   61.5   55.0    326  3.95  3.98  2.43\n",
      "1   0.21  Premium     E     SI1   59.8   61.0    326  3.89  3.84  2.31\n",
      "2   0.23     Good     E     VS1   56.9   65.0    327  4.05  4.07  2.31\n",
      "3   0.29  Premium     I     VS2   62.4   58.0    334  4.20  4.23  2.63\n",
      "4   0.31     Good     J     SI2   63.3   58.0    335  4.34  4.35  2.75\n",
      "\n",
      "Diamonds that are either Premium or Ideal:\n",
      "    carat      cut color clarity  depth  table  price     x     y     z\n",
      "0    0.23    Ideal     E     SI2   61.5   55.0    326  3.95  3.98  2.43\n",
      "1    0.21  Premium     E     SI1   59.8   61.0    326  3.89  3.84  2.31\n",
      "3    0.29  Premium     I     VS2   62.4   58.0    334  4.20  4.23  2.63\n",
      "11   0.23    Ideal     J     VS1   62.8   56.0    340  3.93  3.90  2.46\n",
      "12   0.22  Premium     F     SI1   60.4   61.0    342  3.88  3.84  2.33\n"
     ]
    }
   ],
   "source": [
    "import pandas as pd\n",
    "diamonds = pd.read_csv('https://raw.githubusercontent.com/mwaskom/seaborn-data/master/diamonds.csv')\n",
    "print(\"Original Dataframe:\")\n",
    "print(diamonds.head())\n",
    "print(\"\\nDiamonds that are either Premium or Ideal:\")\n",
    "result = diamonds[(diamonds.cut == 'Premium') | (diamonds.cut == 'Ideal')]\n",
    "print(result.head())"
   ]
  },
  {
   "cell_type": "markdown",
   "metadata": {},
   "source": [
    "# 7-Question\n",
    "1-print the name of all the columns\n",
    "\n",
    "2- Mean of each column\n",
    "\n",
    "3-Mean of each row of diamonds DataFrame:"
   ]
  },
  {
   "cell_type": "code",
   "execution_count": 12,
   "metadata": {},
   "outputs": [
    {
     "name": "stdout",
     "output_type": "stream",
     "text": [
      "Original Dataframe:\n",
      "   carat      cut color clarity  depth  table  price     x     y     z\n",
      "0   0.23    Ideal     E     SI2   61.5   55.0    326  3.95  3.98  2.43\n",
      "1   0.21  Premium     E     SI1   59.8   61.0    326  3.89  3.84  2.31\n",
      "2   0.23     Good     E     VS1   56.9   65.0    327  4.05  4.07  2.31\n",
      "3   0.29  Premium     I     VS2   62.4   58.0    334  4.20  4.23  2.63\n",
      "4   0.31     Good     J     SI2   63.3   58.0    335  4.34  4.35  2.75\n",
      "\n",
      "Mean of each numeric column of diamonds DataFrame:\n",
      "carat       0.797940\n",
      "depth      61.749405\n",
      "table      57.457184\n",
      "price    3932.799722\n",
      "x           5.731157\n",
      "y           5.734526\n",
      "z           3.538734\n",
      "dtype: float64\n",
      "\n",
      "Mean of each row of diamonds DataFrame:\n",
      "0    64.727143\n",
      "1    65.292857\n",
      "2    65.651429\n",
      "3    66.535714\n",
      "4    66.864286\n",
      "dtype: float64\n"
     ]
    },
    {
     "name": "stderr",
     "output_type": "stream",
     "text": [
      "C:\\Users\\ABDO\\AppData\\Local\\Temp/ipykernel_12812/1367335490.py:6: FutureWarning: Dropping of nuisance columns in DataFrame reductions (with 'numeric_only=None') is deprecated; in a future version this will raise TypeError.  Select only valid columns before calling the reduction.\n",
      "  print(diamonds.mean())\n",
      "C:\\Users\\ABDO\\AppData\\Local\\Temp/ipykernel_12812/1367335490.py:8: FutureWarning: Dropping of nuisance columns in DataFrame reductions (with 'numeric_only=None') is deprecated; in a future version this will raise TypeError.  Select only valid columns before calling the reduction.\n",
      "  print(diamonds.mean(axis=1).head())\n"
     ]
    }
   ],
   "source": [
    "import pandas as pd\n",
    "diamonds = pd.read_csv('https://raw.githubusercontent.com/mwaskom/seaborn-data/master/diamonds.csv')\n",
    "print(\"Original Dataframe:\")\n",
    "print(diamonds.head())\n",
    "print(\"\\nMean of each numeric column of diamonds DataFrame:\")\n",
    "print(diamonds.mean())\n",
    "print(\"\\nMean of each row of diamonds DataFrame:\")\n",
    "print(diamonds.mean(axis=1).head())"
   ]
  },
  {
   "cell_type": "markdown",
   "metadata": {},
   "source": [
    "# 8-Question\n",
    "1- mean of 'price' column only\n",
    "\n",
    "2- Write a Pandas program to calculate the mean of price for each cut of diamonds DataFrame.\n",
    "\n",
    "3-Write a Pandas program to calculate count, minimum, maximum price for each cut of diamonds DataFrame.\n",
    "\n",
    "4- count how many times each value in cut series of diamonds DataFrame occurs. value_counts()"
   ]
  },
  {
   "cell_type": "code",
   "execution_count": null,
   "metadata": {},
   "outputs": [],
   "source": [
    "import pandas as pd\n",
    "diamonds = pd.read_csv('https://raw.githubusercontent.com/mwaskom/seaborn-data/master/diamonds.csv')\n",
    "print(\"Original Dataframe:\")\n",
    "print(diamonds.head())\n",
    "print(\"\\nCalculate the mean of price for each cut:\")\n",
    "print(diamonds.groupby('cut').price.mean())\n",
    "print(\"\\nCalculate the mean of price for each cut:\")\n",
    "print(diamonds.groupby('cut').price.mean())\n",
    "print(\"\\nCount, minimum, maximum  price for each cut of diamonds DataFrame:\")\n",
    "print(diamonds.groupby('cut').price.agg(['count', 'min', 'max']))\n",
    "print(\"\\nCalculate the mean of price for each cut:\")\n",
    "print(diamonds.groupby('cut').price.mean())"
   ]
  },
  {
   "cell_type": "markdown",
   "metadata": {},
   "source": [
    "# 9-Question\n",
    "Write a Pandas program to count the number of missing values in each Series of diamonds DataFrame."
   ]
  },
  {
   "cell_type": "code",
   "execution_count": null,
   "metadata": {},
   "outputs": [],
   "source": [
    "import pandas as pd\n",
    "diamonds = pd.read_csv('https://raw.githubusercontent.com/mwaskom/seaborn-data/master/diamonds.csv')\n",
    "print(\"Original Dataframe:\")\n",
    "print(diamonds.head())\n",
    "print(\"\\nNumber of missing values in each Series of diamonds DataFrame:\")\n",
    "print(diamonds.isnull().sum())"
   ]
  },
  {
   "cell_type": "code",
   "execution_count": null,
   "metadata": {},
   "outputs": [],
   "source": []
  }
 ],
 "metadata": {
  "kernelspec": {
   "display_name": "Python 3 (ipykernel)",
   "language": "python",
   "name": "python3"
  },
  "language_info": {
   "codemirror_mode": {
    "name": "ipython",
    "version": 3
   },
   "file_extension": ".py",
   "mimetype": "text/x-python",
   "name": "python",
   "nbconvert_exporter": "python",
   "pygments_lexer": "ipython3",
   "version": "3.9.7"
  }
 },
 "nbformat": 4,
 "nbformat_minor": 2
}
